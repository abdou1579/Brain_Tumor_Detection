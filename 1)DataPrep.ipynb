{
 "cells": [
  {
   "cell_type": "markdown",
   "metadata": {},
   "source": [
    "#### In the context of our final project for the CLA Data Science bootcamp we made this project as proof of the advancement we made during the whole period.\n",
    "#### Our topic of research was AI in the medical field , our dataset is a set of brains (pictures and dataframe) healthy and affected with a tumour. Our purpose is to :\n",
    "##### a) Analyse the data, prepare it if necessary , add some visualisations\n",
    "##### b) Create a ML supervised model to predict the condition of the brain\n",
    "##### c) Create a DL model to predict the condition of the brain\n",
    "##### d) Compare the results "
   ]
  },
  {
   "cell_type": "markdown",
   "metadata": {},
   "source": [
    "## 1) Data Preparation"
   ]
  },
  {
   "cell_type": "markdown",
   "metadata": {},
   "source": [
    "We start of course by importing the libraries that we will need"
   ]
  },
  {
   "cell_type": "code",
   "execution_count": 66,
   "metadata": {},
   "outputs": [],
   "source": [
    "import cv2 as cv\n",
    "import numpy as np\n",
    "import pandas as pd\n",
    "import matplotlib.pyplot as plt\n",
    "from skimage.feature import hog \n",
    "from skimage import io\n",
    "from sklearn.model_selection import train_test_split\n",
    "from sklearn.neighbors import KNeighborsClassifier\n",
    "from sklearn.neural_network import MLPClassifier\n",
    "from sklearn.preprocessing import StandardScaler\n",
    "import seaborn as sns\n",
    "from sklearn import metrics\n",
    "import cmath\n",
    "import os\n",
    "import itertools\n",
    "import glob\n",
    "import shutil"
   ]
  },
  {
   "cell_type": "markdown",
   "metadata": {},
   "source": [
    "(This next code was made just to extract the files from our zip file)"
   ]
  },
  {
   "cell_type": "code",
   "execution_count": 67,
   "metadata": {},
   "outputs": [
    {
     "name": "stdout",
     "output_type": "stream",
     "text": [
      "Done\n"
     ]
    }
   ],
   "source": [
    "from zipfile import ZipFile\n",
    "file_name = \"./data.zip\"\n",
    "\n",
    "with ZipFile(file_name, 'r') as zip:\n",
    "  zip.extractall()\n",
    "  print('Done')"
   ]
  },
  {
   "cell_type": "markdown",
   "metadata": {},
   "source": [
    "Now we import and analyse our dataframe"
   ]
  },
  {
   "cell_type": "code",
   "execution_count": 68,
   "metadata": {},
   "outputs": [
    {
     "data": {
      "text/html": [
       "<div>\n",
       "<style scoped>\n",
       "    .dataframe tbody tr th:only-of-type {\n",
       "        vertical-align: middle;\n",
       "    }\n",
       "\n",
       "    .dataframe tbody tr th {\n",
       "        vertical-align: top;\n",
       "    }\n",
       "\n",
       "    .dataframe thead th {\n",
       "        text-align: right;\n",
       "    }\n",
       "</style>\n",
       "<table border=\"1\" class=\"dataframe\">\n",
       "  <thead>\n",
       "    <tr style=\"text-align: right;\">\n",
       "      <th></th>\n",
       "      <th>Image</th>\n",
       "      <th>Class</th>\n",
       "      <th>Mean</th>\n",
       "      <th>Variance</th>\n",
       "      <th>Standard Deviation</th>\n",
       "      <th>Entropy</th>\n",
       "      <th>Skewness</th>\n",
       "      <th>Kurtosis</th>\n",
       "      <th>Contrast</th>\n",
       "      <th>Energy</th>\n",
       "      <th>ASM</th>\n",
       "      <th>Homogeneity</th>\n",
       "      <th>Dissimilarity</th>\n",
       "      <th>Correlation</th>\n",
       "      <th>Coarseness</th>\n",
       "    </tr>\n",
       "  </thead>\n",
       "  <tbody>\n",
       "    <tr>\n",
       "      <th>0</th>\n",
       "      <td>Image1</td>\n",
       "      <td>0</td>\n",
       "      <td>6.535339</td>\n",
       "      <td>619.587845</td>\n",
       "      <td>24.891522</td>\n",
       "      <td>0.109059</td>\n",
       "      <td>4.276477</td>\n",
       "      <td>18.900575</td>\n",
       "      <td>98.613971</td>\n",
       "      <td>0.293314</td>\n",
       "      <td>0.086033</td>\n",
       "      <td>0.530941</td>\n",
       "      <td>4.473346</td>\n",
       "      <td>0.981939</td>\n",
       "      <td>7.458341e-155</td>\n",
       "    </tr>\n",
       "    <tr>\n",
       "      <th>1</th>\n",
       "      <td>Image2</td>\n",
       "      <td>0</td>\n",
       "      <td>8.749969</td>\n",
       "      <td>805.957634</td>\n",
       "      <td>28.389393</td>\n",
       "      <td>0.266538</td>\n",
       "      <td>3.718116</td>\n",
       "      <td>14.464618</td>\n",
       "      <td>63.858816</td>\n",
       "      <td>0.475051</td>\n",
       "      <td>0.225674</td>\n",
       "      <td>0.651352</td>\n",
       "      <td>3.220072</td>\n",
       "      <td>0.988834</td>\n",
       "      <td>7.458341e-155</td>\n",
       "    </tr>\n",
       "    <tr>\n",
       "      <th>2</th>\n",
       "      <td>Image3</td>\n",
       "      <td>1</td>\n",
       "      <td>7.341095</td>\n",
       "      <td>1143.808219</td>\n",
       "      <td>33.820234</td>\n",
       "      <td>0.001467</td>\n",
       "      <td>5.061750</td>\n",
       "      <td>26.479563</td>\n",
       "      <td>81.867206</td>\n",
       "      <td>0.031917</td>\n",
       "      <td>0.001019</td>\n",
       "      <td>0.268275</td>\n",
       "      <td>5.981800</td>\n",
       "      <td>0.978014</td>\n",
       "      <td>7.458341e-155</td>\n",
       "    </tr>\n",
       "    <tr>\n",
       "      <th>3</th>\n",
       "      <td>Image4</td>\n",
       "      <td>1</td>\n",
       "      <td>5.958145</td>\n",
       "      <td>959.711985</td>\n",
       "      <td>30.979219</td>\n",
       "      <td>0.001477</td>\n",
       "      <td>5.677977</td>\n",
       "      <td>33.428845</td>\n",
       "      <td>151.229741</td>\n",
       "      <td>0.032024</td>\n",
       "      <td>0.001026</td>\n",
       "      <td>0.243851</td>\n",
       "      <td>7.700919</td>\n",
       "      <td>0.964189</td>\n",
       "      <td>7.458341e-155</td>\n",
       "    </tr>\n",
       "    <tr>\n",
       "      <th>4</th>\n",
       "      <td>Image5</td>\n",
       "      <td>0</td>\n",
       "      <td>7.315231</td>\n",
       "      <td>729.540579</td>\n",
       "      <td>27.010009</td>\n",
       "      <td>0.146761</td>\n",
       "      <td>4.283221</td>\n",
       "      <td>19.079108</td>\n",
       "      <td>174.988756</td>\n",
       "      <td>0.343849</td>\n",
       "      <td>0.118232</td>\n",
       "      <td>0.501140</td>\n",
       "      <td>6.834689</td>\n",
       "      <td>0.972789</td>\n",
       "      <td>7.458341e-155</td>\n",
       "    </tr>\n",
       "    <tr>\n",
       "      <th>...</th>\n",
       "      <td>...</td>\n",
       "      <td>...</td>\n",
       "      <td>...</td>\n",
       "      <td>...</td>\n",
       "      <td>...</td>\n",
       "      <td>...</td>\n",
       "      <td>...</td>\n",
       "      <td>...</td>\n",
       "      <td>...</td>\n",
       "      <td>...</td>\n",
       "      <td>...</td>\n",
       "      <td>...</td>\n",
       "      <td>...</td>\n",
       "      <td>...</td>\n",
       "      <td>...</td>\n",
       "    </tr>\n",
       "    <tr>\n",
       "      <th>3757</th>\n",
       "      <td>Image3758</td>\n",
       "      <td>0</td>\n",
       "      <td>21.234512</td>\n",
       "      <td>1208.850174</td>\n",
       "      <td>34.768523</td>\n",
       "      <td>0.063774</td>\n",
       "      <td>2.082079</td>\n",
       "      <td>4.647310</td>\n",
       "      <td>158.437600</td>\n",
       "      <td>0.220666</td>\n",
       "      <td>0.048693</td>\n",
       "      <td>0.487131</td>\n",
       "      <td>5.211739</td>\n",
       "      <td>0.950972</td>\n",
       "      <td>7.458341e-155</td>\n",
       "    </tr>\n",
       "    <tr>\n",
       "      <th>3758</th>\n",
       "      <td>Image3759</td>\n",
       "      <td>0</td>\n",
       "      <td>20.435349</td>\n",
       "      <td>1227.151440</td>\n",
       "      <td>35.030721</td>\n",
       "      <td>0.066763</td>\n",
       "      <td>2.144625</td>\n",
       "      <td>4.882034</td>\n",
       "      <td>161.158675</td>\n",
       "      <td>0.225931</td>\n",
       "      <td>0.051045</td>\n",
       "      <td>0.502712</td>\n",
       "      <td>5.083126</td>\n",
       "      <td>0.952749</td>\n",
       "      <td>7.458341e-155</td>\n",
       "    </tr>\n",
       "    <tr>\n",
       "      <th>3759</th>\n",
       "      <td>Image3760</td>\n",
       "      <td>0</td>\n",
       "      <td>18.011520</td>\n",
       "      <td>1151.582765</td>\n",
       "      <td>33.934978</td>\n",
       "      <td>0.068396</td>\n",
       "      <td>2.308349</td>\n",
       "      <td>5.579498</td>\n",
       "      <td>167.130118</td>\n",
       "      <td>0.228930</td>\n",
       "      <td>0.052409</td>\n",
       "      <td>0.492269</td>\n",
       "      <td>5.103700</td>\n",
       "      <td>0.952181</td>\n",
       "      <td>7.458341e-155</td>\n",
       "    </tr>\n",
       "    <tr>\n",
       "      <th>3760</th>\n",
       "      <td>Image3761</td>\n",
       "      <td>0</td>\n",
       "      <td>13.330429</td>\n",
       "      <td>945.732779</td>\n",
       "      <td>30.752769</td>\n",
       "      <td>0.087872</td>\n",
       "      <td>2.732822</td>\n",
       "      <td>7.757570</td>\n",
       "      <td>223.812932</td>\n",
       "      <td>0.261527</td>\n",
       "      <td>0.068397</td>\n",
       "      <td>0.480064</td>\n",
       "      <td>6.439784</td>\n",
       "      <td>0.940898</td>\n",
       "      <td>7.458341e-155</td>\n",
       "    </tr>\n",
       "    <tr>\n",
       "      <th>3761</th>\n",
       "      <td>Image3762</td>\n",
       "      <td>0</td>\n",
       "      <td>6.110138</td>\n",
       "      <td>480.884025</td>\n",
       "      <td>21.929068</td>\n",
       "      <td>0.118171</td>\n",
       "      <td>4.110669</td>\n",
       "      <td>17.538826</td>\n",
       "      <td>239.251388</td>\n",
       "      <td>0.306224</td>\n",
       "      <td>0.093773</td>\n",
       "      <td>0.494333</td>\n",
       "      <td>6.787329</td>\n",
       "      <td>0.938731</td>\n",
       "      <td>7.458341e-155</td>\n",
       "    </tr>\n",
       "  </tbody>\n",
       "</table>\n",
       "<p>3762 rows × 15 columns</p>\n",
       "</div>"
      ],
      "text/plain": [
       "          Image  Class       Mean     Variance  Standard Deviation   Entropy  \\\n",
       "0        Image1      0   6.535339   619.587845           24.891522  0.109059   \n",
       "1        Image2      0   8.749969   805.957634           28.389393  0.266538   \n",
       "2        Image3      1   7.341095  1143.808219           33.820234  0.001467   \n",
       "3        Image4      1   5.958145   959.711985           30.979219  0.001477   \n",
       "4        Image5      0   7.315231   729.540579           27.010009  0.146761   \n",
       "...         ...    ...        ...          ...                 ...       ...   \n",
       "3757  Image3758      0  21.234512  1208.850174           34.768523  0.063774   \n",
       "3758  Image3759      0  20.435349  1227.151440           35.030721  0.066763   \n",
       "3759  Image3760      0  18.011520  1151.582765           33.934978  0.068396   \n",
       "3760  Image3761      0  13.330429   945.732779           30.752769  0.087872   \n",
       "3761  Image3762      0   6.110138   480.884025           21.929068  0.118171   \n",
       "\n",
       "      Skewness   Kurtosis    Contrast    Energy       ASM  Homogeneity  \\\n",
       "0     4.276477  18.900575   98.613971  0.293314  0.086033     0.530941   \n",
       "1     3.718116  14.464618   63.858816  0.475051  0.225674     0.651352   \n",
       "2     5.061750  26.479563   81.867206  0.031917  0.001019     0.268275   \n",
       "3     5.677977  33.428845  151.229741  0.032024  0.001026     0.243851   \n",
       "4     4.283221  19.079108  174.988756  0.343849  0.118232     0.501140   \n",
       "...        ...        ...         ...       ...       ...          ...   \n",
       "3757  2.082079   4.647310  158.437600  0.220666  0.048693     0.487131   \n",
       "3758  2.144625   4.882034  161.158675  0.225931  0.051045     0.502712   \n",
       "3759  2.308349   5.579498  167.130118  0.228930  0.052409     0.492269   \n",
       "3760  2.732822   7.757570  223.812932  0.261527  0.068397     0.480064   \n",
       "3761  4.110669  17.538826  239.251388  0.306224  0.093773     0.494333   \n",
       "\n",
       "      Dissimilarity  Correlation     Coarseness  \n",
       "0          4.473346     0.981939  7.458341e-155  \n",
       "1          3.220072     0.988834  7.458341e-155  \n",
       "2          5.981800     0.978014  7.458341e-155  \n",
       "3          7.700919     0.964189  7.458341e-155  \n",
       "4          6.834689     0.972789  7.458341e-155  \n",
       "...             ...          ...            ...  \n",
       "3757       5.211739     0.950972  7.458341e-155  \n",
       "3758       5.083126     0.952749  7.458341e-155  \n",
       "3759       5.103700     0.952181  7.458341e-155  \n",
       "3760       6.439784     0.940898  7.458341e-155  \n",
       "3761       6.787329     0.938731  7.458341e-155  \n",
       "\n",
       "[3762 rows x 15 columns]"
      ]
     },
     "execution_count": 68,
     "metadata": {},
     "output_type": "execute_result"
    }
   ],
   "source": [
    "df = pd.read_csv(\"Brain Tumor.csv\")\n",
    "df"
   ]
  },
  {
   "cell_type": "code",
   "execution_count": 69,
   "metadata": {},
   "outputs": [
    {
     "name": "stdout",
     "output_type": "stream",
     "text": [
      "<class 'pandas.core.frame.DataFrame'>\n",
      "RangeIndex: 3762 entries, 0 to 3761\n",
      "Data columns (total 15 columns):\n",
      " #   Column              Non-Null Count  Dtype  \n",
      "---  ------              --------------  -----  \n",
      " 0   Image               3762 non-null   object \n",
      " 1   Class               3762 non-null   int64  \n",
      " 2   Mean                3762 non-null   float64\n",
      " 3   Variance            3762 non-null   float64\n",
      " 4   Standard Deviation  3762 non-null   float64\n",
      " 5   Entropy             3762 non-null   float64\n",
      " 6   Skewness            3762 non-null   float64\n",
      " 7   Kurtosis            3762 non-null   float64\n",
      " 8   Contrast            3762 non-null   float64\n",
      " 9   Energy              3762 non-null   float64\n",
      " 10  ASM                 3762 non-null   float64\n",
      " 11  Homogeneity         3762 non-null   float64\n",
      " 12  Dissimilarity       3762 non-null   float64\n",
      " 13  Correlation         3762 non-null   float64\n",
      " 14  Coarseness          3762 non-null   float64\n",
      "dtypes: float64(13), int64(1), object(1)\n",
      "memory usage: 441.0+ KB\n"
     ]
    }
   ],
   "source": [
    "df.info()"
   ]
  },
  {
   "cell_type": "markdown",
   "metadata": {},
   "source": [
    "We have 15 columns, with the first one being the Images that act as ID in this case, the second one being the class which is our target , and the rest will be our data features"
   ]
  },
  {
   "cell_type": "code",
   "execution_count": 70,
   "metadata": {},
   "outputs": [
    {
     "data": {
      "text/plain": [
       "Image                 0\n",
       "Class                 0\n",
       "Mean                  0\n",
       "Variance              0\n",
       "Standard Deviation    0\n",
       "Entropy               0\n",
       "Skewness              0\n",
       "Kurtosis              0\n",
       "Contrast              0\n",
       "Energy                0\n",
       "ASM                   0\n",
       "Homogeneity           0\n",
       "Dissimilarity         0\n",
       "Correlation           0\n",
       "Coarseness            0\n",
       "dtype: int64"
      ]
     },
     "execution_count": 70,
     "metadata": {},
     "output_type": "execute_result"
    }
   ],
   "source": [
    "#looking for missing values\n",
    "df.isna().sum()"
   ]
  },
  {
   "cell_type": "code",
   "execution_count": 71,
   "metadata": {},
   "outputs": [],
   "source": [
    "df=df.drop([\"Image\"],axis=1) #droping the ID as we do not need it"
   ]
  },
  {
   "cell_type": "code",
   "execution_count": 72,
   "metadata": {},
   "outputs": [
    {
     "data": {
      "text/html": [
       "<div>\n",
       "<style scoped>\n",
       "    .dataframe tbody tr th:only-of-type {\n",
       "        vertical-align: middle;\n",
       "    }\n",
       "\n",
       "    .dataframe tbody tr th {\n",
       "        vertical-align: top;\n",
       "    }\n",
       "\n",
       "    .dataframe thead th {\n",
       "        text-align: right;\n",
       "    }\n",
       "</style>\n",
       "<table border=\"1\" class=\"dataframe\">\n",
       "  <thead>\n",
       "    <tr style=\"text-align: right;\">\n",
       "      <th></th>\n",
       "      <th>Class</th>\n",
       "      <th>Mean</th>\n",
       "      <th>Variance</th>\n",
       "      <th>Standard Deviation</th>\n",
       "      <th>Entropy</th>\n",
       "      <th>Skewness</th>\n",
       "      <th>Kurtosis</th>\n",
       "      <th>Contrast</th>\n",
       "      <th>Energy</th>\n",
       "      <th>ASM</th>\n",
       "      <th>Homogeneity</th>\n",
       "      <th>Dissimilarity</th>\n",
       "      <th>Correlation</th>\n",
       "      <th>Coarseness</th>\n",
       "    </tr>\n",
       "  </thead>\n",
       "  <tbody>\n",
       "    <tr>\n",
       "      <th>0</th>\n",
       "      <td>0</td>\n",
       "      <td>-0.515700</td>\n",
       "      <td>-0.195790</td>\n",
       "      <td>-0.033144</td>\n",
       "      <td>0.504650</td>\n",
       "      <td>0.067855</td>\n",
       "      <td>-0.097267</td>\n",
       "      <td>-0.268050</td>\n",
       "      <td>0.685118</td>\n",
       "      <td>0.470073</td>\n",
       "      <td>0.404100</td>\n",
       "      <td>-0.121709</td>\n",
       "      <td>1.000713</td>\n",
       "      <td>-1.117857e-168</td>\n",
       "    </tr>\n",
       "    <tr>\n",
       "      <th>1</th>\n",
       "      <td>0</td>\n",
       "      <td>-0.129018</td>\n",
       "      <td>0.202943</td>\n",
       "      <td>0.365594</td>\n",
       "      <td>2.746050</td>\n",
       "      <td>-0.150204</td>\n",
       "      <td>-0.175881</td>\n",
       "      <td>-0.585492</td>\n",
       "      <td>2.090287</td>\n",
       "      <td>2.865580</td>\n",
       "      <td>1.345457</td>\n",
       "      <td>-0.799181</td>\n",
       "      <td>1.264377</td>\n",
       "      <td>-1.117857e-168</td>\n",
       "    </tr>\n",
       "    <tr>\n",
       "      <th>2</th>\n",
       "      <td>1</td>\n",
       "      <td>-0.375013</td>\n",
       "      <td>0.925765</td>\n",
       "      <td>0.984680</td>\n",
       "      <td>-1.026708</td>\n",
       "      <td>0.374531</td>\n",
       "      <td>0.037048</td>\n",
       "      <td>-0.421010</td>\n",
       "      <td>-1.335981</td>\n",
       "      <td>-0.988340</td>\n",
       "      <td>-1.649391</td>\n",
       "      <td>0.693704</td>\n",
       "      <td>0.850636</td>\n",
       "      <td>-1.117857e-168</td>\n",
       "    </tr>\n",
       "    <tr>\n",
       "      <th>3</th>\n",
       "      <td>1</td>\n",
       "      <td>-0.616481</td>\n",
       "      <td>0.531896</td>\n",
       "      <td>0.660820</td>\n",
       "      <td>-1.026561</td>\n",
       "      <td>0.615188</td>\n",
       "      <td>0.160202</td>\n",
       "      <td>0.212525</td>\n",
       "      <td>-1.335154</td>\n",
       "      <td>-0.988223</td>\n",
       "      <td>-1.840334</td>\n",
       "      <td>1.622995</td>\n",
       "      <td>0.322041</td>\n",
       "      <td>-1.117857e-168</td>\n",
       "    </tr>\n",
       "    <tr>\n",
       "      <th>4</th>\n",
       "      <td>0</td>\n",
       "      <td>-0.379529</td>\n",
       "      <td>0.039451</td>\n",
       "      <td>0.208352</td>\n",
       "      <td>1.041256</td>\n",
       "      <td>0.070489</td>\n",
       "      <td>-0.094103</td>\n",
       "      <td>0.429532</td>\n",
       "      <td>1.075849</td>\n",
       "      <td>1.022442</td>\n",
       "      <td>0.171115</td>\n",
       "      <td>1.154744</td>\n",
       "      <td>0.650854</td>\n",
       "      <td>-1.117857e-168</td>\n",
       "    </tr>\n",
       "    <tr>\n",
       "      <th>...</th>\n",
       "      <td>...</td>\n",
       "      <td>...</td>\n",
       "      <td>...</td>\n",
       "      <td>...</td>\n",
       "      <td>...</td>\n",
       "      <td>...</td>\n",
       "      <td>...</td>\n",
       "      <td>...</td>\n",
       "      <td>...</td>\n",
       "      <td>...</td>\n",
       "      <td>...</td>\n",
       "      <td>...</td>\n",
       "      <td>...</td>\n",
       "      <td>...</td>\n",
       "    </tr>\n",
       "    <tr>\n",
       "      <th>3757</th>\n",
       "      <td>0</td>\n",
       "      <td>2.050827</td>\n",
       "      <td>1.064921</td>\n",
       "      <td>1.092779</td>\n",
       "      <td>-0.139892</td>\n",
       "      <td>-0.789131</td>\n",
       "      <td>-0.349862</td>\n",
       "      <td>0.278359</td>\n",
       "      <td>0.123407</td>\n",
       "      <td>-0.170487</td>\n",
       "      <td>0.061596</td>\n",
       "      <td>0.277439</td>\n",
       "      <td>-0.183335</td>\n",
       "      <td>1.338116e-167</td>\n",
       "    </tr>\n",
       "    <tr>\n",
       "      <th>3758</th>\n",
       "      <td>0</td>\n",
       "      <td>1.911290</td>\n",
       "      <td>1.104076</td>\n",
       "      <td>1.122668</td>\n",
       "      <td>-0.097345</td>\n",
       "      <td>-0.764704</td>\n",
       "      <td>-0.345702</td>\n",
       "      <td>0.303212</td>\n",
       "      <td>0.164116</td>\n",
       "      <td>-0.130150</td>\n",
       "      <td>0.183409</td>\n",
       "      <td>0.207915</td>\n",
       "      <td>-0.115377</td>\n",
       "      <td>1.338116e-167</td>\n",
       "    </tr>\n",
       "    <tr>\n",
       "      <th>3759</th>\n",
       "      <td>0</td>\n",
       "      <td>1.488082</td>\n",
       "      <td>0.942399</td>\n",
       "      <td>0.997760</td>\n",
       "      <td>-0.074100</td>\n",
       "      <td>-0.700765</td>\n",
       "      <td>-0.333342</td>\n",
       "      <td>0.357754</td>\n",
       "      <td>0.187301</td>\n",
       "      <td>-0.106751</td>\n",
       "      <td>0.101766</td>\n",
       "      <td>0.219037</td>\n",
       "      <td>-0.137095</td>\n",
       "      <td>1.338116e-167</td>\n",
       "    </tr>\n",
       "    <tr>\n",
       "      <th>3760</th>\n",
       "      <td>0</td>\n",
       "      <td>0.670746</td>\n",
       "      <td>0.501988</td>\n",
       "      <td>0.635006</td>\n",
       "      <td>0.203090</td>\n",
       "      <td>-0.534994</td>\n",
       "      <td>-0.294742</td>\n",
       "      <td>0.875475</td>\n",
       "      <td>0.439344</td>\n",
       "      <td>0.167517</td>\n",
       "      <td>0.006346</td>\n",
       "      <td>0.941273</td>\n",
       "      <td>-0.568517</td>\n",
       "      <td>1.338116e-167</td>\n",
       "    </tr>\n",
       "    <tr>\n",
       "      <th>3761</th>\n",
       "      <td>0</td>\n",
       "      <td>-0.589942</td>\n",
       "      <td>-0.492543</td>\n",
       "      <td>-0.370847</td>\n",
       "      <td>0.634342</td>\n",
       "      <td>0.003102</td>\n",
       "      <td>-0.121400</td>\n",
       "      <td>1.016485</td>\n",
       "      <td>0.784933</td>\n",
       "      <td>0.602848</td>\n",
       "      <td>0.117900</td>\n",
       "      <td>1.129143</td>\n",
       "      <td>-0.651387</td>\n",
       "      <td>1.348053e-167</td>\n",
       "    </tr>\n",
       "  </tbody>\n",
       "</table>\n",
       "<p>3762 rows × 14 columns</p>\n",
       "</div>"
      ],
      "text/plain": [
       "      Class      Mean  Variance  Standard Deviation   Entropy  Skewness  \\\n",
       "0         0 -0.515700 -0.195790           -0.033144  0.504650  0.067855   \n",
       "1         0 -0.129018  0.202943            0.365594  2.746050 -0.150204   \n",
       "2         1 -0.375013  0.925765            0.984680 -1.026708  0.374531   \n",
       "3         1 -0.616481  0.531896            0.660820 -1.026561  0.615188   \n",
       "4         0 -0.379529  0.039451            0.208352  1.041256  0.070489   \n",
       "...     ...       ...       ...                 ...       ...       ...   \n",
       "3757      0  2.050827  1.064921            1.092779 -0.139892 -0.789131   \n",
       "3758      0  1.911290  1.104076            1.122668 -0.097345 -0.764704   \n",
       "3759      0  1.488082  0.942399            0.997760 -0.074100 -0.700765   \n",
       "3760      0  0.670746  0.501988            0.635006  0.203090 -0.534994   \n",
       "3761      0 -0.589942 -0.492543           -0.370847  0.634342  0.003102   \n",
       "\n",
       "      Kurtosis  Contrast    Energy       ASM  Homogeneity  Dissimilarity  \\\n",
       "0    -0.097267 -0.268050  0.685118  0.470073     0.404100      -0.121709   \n",
       "1    -0.175881 -0.585492  2.090287  2.865580     1.345457      -0.799181   \n",
       "2     0.037048 -0.421010 -1.335981 -0.988340    -1.649391       0.693704   \n",
       "3     0.160202  0.212525 -1.335154 -0.988223    -1.840334       1.622995   \n",
       "4    -0.094103  0.429532  1.075849  1.022442     0.171115       1.154744   \n",
       "...        ...       ...       ...       ...          ...            ...   \n",
       "3757 -0.349862  0.278359  0.123407 -0.170487     0.061596       0.277439   \n",
       "3758 -0.345702  0.303212  0.164116 -0.130150     0.183409       0.207915   \n",
       "3759 -0.333342  0.357754  0.187301 -0.106751     0.101766       0.219037   \n",
       "3760 -0.294742  0.875475  0.439344  0.167517     0.006346       0.941273   \n",
       "3761 -0.121400  1.016485  0.784933  0.602848     0.117900       1.129143   \n",
       "\n",
       "      Correlation     Coarseness  \n",
       "0        1.000713 -1.117857e-168  \n",
       "1        1.264377 -1.117857e-168  \n",
       "2        0.850636 -1.117857e-168  \n",
       "3        0.322041 -1.117857e-168  \n",
       "4        0.650854 -1.117857e-168  \n",
       "...           ...            ...  \n",
       "3757    -0.183335  1.338116e-167  \n",
       "3758    -0.115377  1.338116e-167  \n",
       "3759    -0.137095  1.338116e-167  \n",
       "3760    -0.568517  1.338116e-167  \n",
       "3761    -0.651387  1.348053e-167  \n",
       "\n",
       "[3762 rows x 14 columns]"
      ]
     },
     "execution_count": 72,
     "metadata": {},
     "output_type": "execute_result"
    }
   ],
   "source": [
    "#scaling our data to manipulate it easier\n",
    "scalable=['Mean', 'Variance', 'Standard Deviation', 'Entropy',\n",
    "       'Skewness', 'Kurtosis', 'Contrast', 'Energy', 'ASM', 'Homogeneity',\n",
    "       'Dissimilarity', 'Correlation', 'Coarseness']\n",
    "\n",
    "\n",
    "df[scalable]=StandardScaler().fit_transform(df[scalable])\n",
    "df"
   ]
  },
  {
   "cell_type": "code",
   "execution_count": 73,
   "metadata": {},
   "outputs": [
    {
     "data": {
      "image/png": "[encoded data removed]",
      "text/plain": [
       "<Figure size 432x288 with 1 Axes>"
      ]
     },
     "metadata": {
      "needs_background": "light"
     },
     "output_type": "display_data"
    }
   ],
   "source": [
    "#a boxplot to visualise and check for outliers\n",
    "plt.boxplot(df)\n",
    "plt.show()"
   ]
  },
  {
   "cell_type": "markdown",
   "metadata": {},
   "source": [
    "#### Observations :\n",
    "- Our data is already all numerical so no need to change any of them.\n",
    "- We have seen that our data has no missing values, which is good.\n",
    "- We have also seen with our boxplot that some outliers are present in some features, but for the sake of our research we will say that they are accurate values and therefore won't be dealt with."
   ]
  },
  {
   "cell_type": "markdown",
   "metadata": {},
   "source": [
    "#### Now we will be adding more visualisations :"
   ]
  },
  {
   "cell_type": "code",
   "execution_count": 74,
   "metadata": {},
   "outputs": [
    {
     "name": "stderr",
     "output_type": "stream",
     "text": [
      "c:\\Users\\amine\\anaconda3\\lib\\site-packages\\seaborn\\categorical.py:1296: UserWarning: 79.2% of the points cannot be placed; you may want to decrease the size of the markers or use stripplot.\n",
      "  warnings.warn(msg, UserWarning)\n",
      "c:\\Users\\amine\\anaconda3\\lib\\site-packages\\seaborn\\categorical.py:1296: UserWarning: 67.1% of the points cannot be placed; you may want to decrease the size of the markers or use stripplot.\n",
      "  warnings.warn(msg, UserWarning)\n"
     ]
    },
    {
     "data": {
      "text/plain": [
       "Text(0.5, 1.0, 'Distribution of image Homogenity, by Class')"
      ]
     },
     "execution_count": 74,
     "metadata": {},
     "output_type": "execute_result"
    },
    {
     "data": {
      "image/png": "[encoded data removed]",
      "text/plain": [
       "<Figure size 432x288 with 1 Axes>"
      ]
     },
     "metadata": {
      "needs_background": "light"
     },
     "output_type": "display_data"
    }
   ],
   "source": [
    "sns.swarmplot(x=df['Class'], y= df['Homogeneity'])\n",
    "plt.title(\"Distribution of image Homogenity, by Class\")"
   ]
  },
  {
   "cell_type": "code",
   "execution_count": 75,
   "metadata": {},
   "outputs": [
    {
     "name": "stderr",
     "output_type": "stream",
     "text": [
      "c:\\Users\\amine\\anaconda3\\lib\\site-packages\\seaborn\\distributions.py:2619: FutureWarning: `distplot` is a deprecated function and will be removed in a future version. Please adapt your code to use either `displot` (a figure-level function with similar flexibility) or `histplot` (an axes-level function for histograms).\n",
      "  warnings.warn(msg, FutureWarning)\n",
      "c:\\Users\\amine\\anaconda3\\lib\\site-packages\\seaborn\\distributions.py:2619: FutureWarning: `distplot` is a deprecated function and will be removed in a future version. Please adapt your code to use either `displot` (a figure-level function with similar flexibility) or `histplot` (an axes-level function for histograms).\n",
      "  warnings.warn(msg, FutureWarning)\n"
     ]
    },
    {
     "data": {
      "text/plain": [
       "<matplotlib.legend.Legend at 0x2a8dfdba730>"
      ]
     },
     "execution_count": 75,
     "metadata": {},
     "output_type": "execute_result"
    },
    {
     "data": {
      "image/png": "[encoded data removed]",
      "text/plain": [
       "<Figure size 432x288 with 1 Axes>"
      ]
     },
     "metadata": {
      "needs_background": "light"
     },
     "output_type": "display_data"
    }
   ],
   "source": [
    "class1=df['Class']== 1\n",
    "class0=df['Class']== 0\n",
    "_data=df.copy()\n",
    "sns.distplot(a= _data[class1]['Energy'], label=\"Tumor\")\n",
    "sns.distplot(a = _data[class0]['Energy'], label=\"No tumor\" )\n",
    "\n",
    "plt.title(\"Distribution of image Energy, by Class\")\n",
    "plt.legend()"
   ]
  },
  {
   "cell_type": "code",
   "execution_count": 76,
   "metadata": {},
   "outputs": [
    {
     "data": {
      "text/html": [
       "<div>\n",
       "<style scoped>\n",
       "    .dataframe tbody tr th:only-of-type {\n",
       "        vertical-align: middle;\n",
       "    }\n",
       "\n",
       "    .dataframe tbody tr th {\n",
       "        vertical-align: top;\n",
       "    }\n",
       "\n",
       "    .dataframe thead th {\n",
       "        text-align: right;\n",
       "    }\n",
       "</style>\n",
       "<table border=\"1\" class=\"dataframe\">\n",
       "  <thead>\n",
       "    <tr style=\"text-align: right;\">\n",
       "      <th></th>\n",
       "      <th>Class</th>\n",
       "      <th>Mean</th>\n",
       "      <th>Variance</th>\n",
       "      <th>Standard Deviation</th>\n",
       "      <th>Entropy</th>\n",
       "      <th>Skewness</th>\n",
       "      <th>Kurtosis</th>\n",
       "      <th>Contrast</th>\n",
       "      <th>Energy</th>\n",
       "      <th>ASM</th>\n",
       "      <th>Homogeneity</th>\n",
       "      <th>Dissimilarity</th>\n",
       "      <th>Correlation</th>\n",
       "      <th>Coarseness</th>\n",
       "    </tr>\n",
       "  </thead>\n",
       "  <tbody>\n",
       "    <tr>\n",
       "      <th>Class</th>\n",
       "      <td>1.000000</td>\n",
       "      <td>-0.095729</td>\n",
       "      <td>0.308818</td>\n",
       "      <td>0.285568</td>\n",
       "      <td>-0.778180</td>\n",
       "      <td>0.402644</td>\n",
       "      <td>0.239844</td>\n",
       "      <td>0.212643</td>\n",
       "      <td>-0.862413</td>\n",
       "      <td>-0.758255</td>\n",
       "      <td>-0.847529</td>\n",
       "      <td>0.556319</td>\n",
       "      <td>-0.108601</td>\n",
       "      <td>NaN</td>\n",
       "    </tr>\n",
       "    <tr>\n",
       "      <th>Mean</th>\n",
       "      <td>-0.095729</td>\n",
       "      <td>1.000000</td>\n",
       "      <td>0.783027</td>\n",
       "      <td>0.790984</td>\n",
       "      <td>-0.099729</td>\n",
       "      <td>-0.601593</td>\n",
       "      <td>-0.358163</td>\n",
       "      <td>-0.050974</td>\n",
       "      <td>-0.014863</td>\n",
       "      <td>-0.109393</td>\n",
       "      <td>0.095556</td>\n",
       "      <td>-0.113864</td>\n",
       "      <td>0.293693</td>\n",
       "      <td>NaN</td>\n",
       "    </tr>\n",
       "    <tr>\n",
       "      <th>Variance</th>\n",
       "      <td>0.308818</td>\n",
       "      <td>0.783027</td>\n",
       "      <td>1.000000</td>\n",
       "      <td>0.975699</td>\n",
       "      <td>-0.344432</td>\n",
       "      <td>-0.347399</td>\n",
       "      <td>-0.248312</td>\n",
       "      <td>0.135494</td>\n",
       "      <td>-0.335470</td>\n",
       "      <td>-0.341061</td>\n",
       "      <td>-0.290527</td>\n",
       "      <td>0.235487</td>\n",
       "      <td>0.288037</td>\n",
       "      <td>NaN</td>\n",
       "    </tr>\n",
       "    <tr>\n",
       "      <th>Standard Deviation</th>\n",
       "      <td>0.285568</td>\n",
       "      <td>0.790984</td>\n",
       "      <td>0.975699</td>\n",
       "      <td>1.000000</td>\n",
       "      <td>-0.345127</td>\n",
       "      <td>-0.425428</td>\n",
       "      <td>-0.329798</td>\n",
       "      <td>0.117981</td>\n",
       "      <td>-0.331103</td>\n",
       "      <td>-0.342530</td>\n",
       "      <td>-0.288801</td>\n",
       "      <td>0.224773</td>\n",
       "      <td>0.354161</td>\n",
       "      <td>NaN</td>\n",
       "    </tr>\n",
       "    <tr>\n",
       "      <th>Entropy</th>\n",
       "      <td>-0.778180</td>\n",
       "      <td>-0.099729</td>\n",
       "      <td>-0.344432</td>\n",
       "      <td>-0.345127</td>\n",
       "      <td>1.000000</td>\n",
       "      <td>-0.222222</td>\n",
       "      <td>-0.140125</td>\n",
       "      <td>-0.140769</td>\n",
       "      <td>0.971260</td>\n",
       "      <td>0.999213</td>\n",
       "      <td>0.852019</td>\n",
       "      <td>-0.502363</td>\n",
       "      <td>0.122080</td>\n",
       "      <td>NaN</td>\n",
       "    </tr>\n",
       "    <tr>\n",
       "      <th>Skewness</th>\n",
       "      <td>0.402644</td>\n",
       "      <td>-0.601593</td>\n",
       "      <td>-0.347399</td>\n",
       "      <td>-0.425428</td>\n",
       "      <td>-0.222222</td>\n",
       "      <td>1.000000</td>\n",
       "      <td>0.899713</td>\n",
       "      <td>0.349856</td>\n",
       "      <td>-0.295413</td>\n",
       "      <td>-0.209289</td>\n",
       "      <td>-0.470054</td>\n",
       "      <td>0.511931</td>\n",
       "      <td>-0.570919</td>\n",
       "      <td>NaN</td>\n",
       "    </tr>\n",
       "    <tr>\n",
       "      <th>Kurtosis</th>\n",
       "      <td>0.239844</td>\n",
       "      <td>-0.358163</td>\n",
       "      <td>-0.248312</td>\n",
       "      <td>-0.329798</td>\n",
       "      <td>-0.140125</td>\n",
       "      <td>0.899713</td>\n",
       "      <td>1.000000</td>\n",
       "      <td>0.296664</td>\n",
       "      <td>-0.172454</td>\n",
       "      <td>-0.133741</td>\n",
       "      <td>-0.307314</td>\n",
       "      <td>0.375939</td>\n",
       "      <td>-0.589211</td>\n",
       "      <td>NaN</td>\n",
       "    </tr>\n",
       "    <tr>\n",
       "      <th>Contrast</th>\n",
       "      <td>0.212643</td>\n",
       "      <td>-0.050974</td>\n",
       "      <td>0.135494</td>\n",
       "      <td>0.117981</td>\n",
       "      <td>-0.140769</td>\n",
       "      <td>0.349856</td>\n",
       "      <td>0.296664</td>\n",
       "      <td>1.000000</td>\n",
       "      <td>-0.130708</td>\n",
       "      <td>-0.139276</td>\n",
       "      <td>-0.270119</td>\n",
       "      <td>0.761497</td>\n",
       "      <td>-0.427443</td>\n",
       "      <td>NaN</td>\n",
       "    </tr>\n",
       "    <tr>\n",
       "      <th>Energy</th>\n",
       "      <td>-0.862413</td>\n",
       "      <td>-0.014863</td>\n",
       "      <td>-0.335470</td>\n",
       "      <td>-0.331103</td>\n",
       "      <td>0.971260</td>\n",
       "      <td>-0.295413</td>\n",
       "      <td>-0.172454</td>\n",
       "      <td>-0.130708</td>\n",
       "      <td>1.000000</td>\n",
       "      <td>0.961628</td>\n",
       "      <td>0.915988</td>\n",
       "      <td>-0.545774</td>\n",
       "      <td>0.123680</td>\n",
       "      <td>NaN</td>\n",
       "    </tr>\n",
       "    <tr>\n",
       "      <th>ASM</th>\n",
       "      <td>-0.758255</td>\n",
       "      <td>-0.109393</td>\n",
       "      <td>-0.341061</td>\n",
       "      <td>-0.342530</td>\n",
       "      <td>0.999213</td>\n",
       "      <td>-0.209289</td>\n",
       "      <td>-0.133741</td>\n",
       "      <td>-0.139276</td>\n",
       "      <td>0.961628</td>\n",
       "      <td>1.000000</td>\n",
       "      <td>0.837139</td>\n",
       "      <td>-0.491813</td>\n",
       "      <td>0.121054</td>\n",
       "      <td>NaN</td>\n",
       "    </tr>\n",
       "    <tr>\n",
       "      <th>Homogeneity</th>\n",
       "      <td>-0.847529</td>\n",
       "      <td>0.095556</td>\n",
       "      <td>-0.290527</td>\n",
       "      <td>-0.288801</td>\n",
       "      <td>0.852019</td>\n",
       "      <td>-0.470054</td>\n",
       "      <td>-0.307314</td>\n",
       "      <td>-0.270119</td>\n",
       "      <td>0.915988</td>\n",
       "      <td>0.837139</td>\n",
       "      <td>1.000000</td>\n",
       "      <td>-0.746675</td>\n",
       "      <td>0.198639</td>\n",
       "      <td>NaN</td>\n",
       "    </tr>\n",
       "    <tr>\n",
       "      <th>Dissimilarity</th>\n",
       "      <td>0.556319</td>\n",
       "      <td>-0.113864</td>\n",
       "      <td>0.235487</td>\n",
       "      <td>0.224773</td>\n",
       "      <td>-0.502363</td>\n",
       "      <td>0.511931</td>\n",
       "      <td>0.375939</td>\n",
       "      <td>0.761497</td>\n",
       "      <td>-0.545774</td>\n",
       "      <td>-0.491813</td>\n",
       "      <td>-0.746675</td>\n",
       "      <td>1.000000</td>\n",
       "      <td>-0.393013</td>\n",
       "      <td>NaN</td>\n",
       "    </tr>\n",
       "    <tr>\n",
       "      <th>Correlation</th>\n",
       "      <td>-0.108601</td>\n",
       "      <td>0.293693</td>\n",
       "      <td>0.288037</td>\n",
       "      <td>0.354161</td>\n",
       "      <td>0.122080</td>\n",
       "      <td>-0.570919</td>\n",
       "      <td>-0.589211</td>\n",
       "      <td>-0.427443</td>\n",
       "      <td>0.123680</td>\n",
       "      <td>0.121054</td>\n",
       "      <td>0.198639</td>\n",
       "      <td>-0.393013</td>\n",
       "      <td>1.000000</td>\n",
       "      <td>NaN</td>\n",
       "    </tr>\n",
       "    <tr>\n",
       "      <th>Coarseness</th>\n",
       "      <td>NaN</td>\n",
       "      <td>NaN</td>\n",
       "      <td>NaN</td>\n",
       "      <td>NaN</td>\n",
       "      <td>NaN</td>\n",
       "      <td>NaN</td>\n",
       "      <td>NaN</td>\n",
       "      <td>NaN</td>\n",
       "      <td>NaN</td>\n",
       "      <td>NaN</td>\n",
       "      <td>NaN</td>\n",
       "      <td>NaN</td>\n",
       "      <td>NaN</td>\n",
       "      <td>NaN</td>\n",
       "    </tr>\n",
       "  </tbody>\n",
       "</table>\n",
       "</div>"
      ],
      "text/plain": [
       "                       Class      Mean  Variance  Standard Deviation  \\\n",
       "Class               1.000000 -0.095729  0.308818            0.285568   \n",
       "Mean               -0.095729  1.000000  0.783027            0.790984   \n",
       "Variance            0.308818  0.783027  1.000000            0.975699   \n",
       "Standard Deviation  0.285568  0.790984  0.975699            1.000000   \n",
       "Entropy            -0.778180 -0.099729 -0.344432           -0.345127   \n",
       "Skewness            0.402644 -0.601593 -0.347399           -0.425428   \n",
       "Kurtosis            0.239844 -0.358163 -0.248312           -0.329798   \n",
       "Contrast            0.212643 -0.050974  0.135494            0.117981   \n",
       "Energy             -0.862413 -0.014863 -0.335470           -0.331103   \n",
       "ASM                -0.758255 -0.109393 -0.341061           -0.342530   \n",
       "Homogeneity        -0.847529  0.095556 -0.290527           -0.288801   \n",
       "Dissimilarity       0.556319 -0.113864  0.235487            0.224773   \n",
       "Correlation        -0.108601  0.293693  0.288037            0.354161   \n",
       "Coarseness               NaN       NaN       NaN                 NaN   \n",
       "\n",
       "                     Entropy  Skewness  Kurtosis  Contrast    Energy  \\\n",
       "Class              -0.778180  0.402644  0.239844  0.212643 -0.862413   \n",
       "Mean               -0.099729 -0.601593 -0.358163 -0.050974 -0.014863   \n",
       "Variance           -0.344432 -0.347399 -0.248312  0.135494 -0.335470   \n",
       "Standard Deviation -0.345127 -0.425428 -0.329798  0.117981 -0.331103   \n",
       "Entropy             1.000000 -0.222222 -0.140125 -0.140769  0.971260   \n",
       "Skewness           -0.222222  1.000000  0.899713  0.349856 -0.295413   \n",
       "Kurtosis           -0.140125  0.899713  1.000000  0.296664 -0.172454   \n",
       "Contrast           -0.140769  0.349856  0.296664  1.000000 -0.130708   \n",
       "Energy              0.971260 -0.295413 -0.172454 -0.130708  1.000000   \n",
       "ASM                 0.999213 -0.209289 -0.133741 -0.139276  0.961628   \n",
       "Homogeneity         0.852019 -0.470054 -0.307314 -0.270119  0.915988   \n",
       "Dissimilarity      -0.502363  0.511931  0.375939  0.761497 -0.545774   \n",
       "Correlation         0.122080 -0.570919 -0.589211 -0.427443  0.123680   \n",
       "Coarseness               NaN       NaN       NaN       NaN       NaN   \n",
       "\n",
       "                         ASM  Homogeneity  Dissimilarity  Correlation  \\\n",
       "Class              -0.758255    -0.847529       0.556319    -0.108601   \n",
       "Mean               -0.109393     0.095556      -0.113864     0.293693   \n",
       "Variance           -0.341061    -0.290527       0.235487     0.288037   \n",
       "Standard Deviation -0.342530    -0.288801       0.224773     0.354161   \n",
       "Entropy             0.999213     0.852019      -0.502363     0.122080   \n",
       "Skewness           -0.209289    -0.470054       0.511931    -0.570919   \n",
       "Kurtosis           -0.133741    -0.307314       0.375939    -0.589211   \n",
       "Contrast           -0.139276    -0.270119       0.761497    -0.427443   \n",
       "Energy              0.961628     0.915988      -0.545774     0.123680   \n",
       "ASM                 1.000000     0.837139      -0.491813     0.121054   \n",
       "Homogeneity         0.837139     1.000000      -0.746675     0.198639   \n",
       "Dissimilarity      -0.491813    -0.746675       1.000000    -0.393013   \n",
       "Correlation         0.121054     0.198639      -0.393013     1.000000   \n",
       "Coarseness               NaN          NaN            NaN          NaN   \n",
       "\n",
       "                    Coarseness  \n",
       "Class                      NaN  \n",
       "Mean                       NaN  \n",
       "Variance                   NaN  \n",
       "Standard Deviation         NaN  \n",
       "Entropy                    NaN  \n",
       "Skewness                   NaN  \n",
       "Kurtosis                   NaN  \n",
       "Contrast                   NaN  \n",
       "Energy                     NaN  \n",
       "ASM                        NaN  \n",
       "Homogeneity                NaN  \n",
       "Dissimilarity              NaN  \n",
       "Correlation                NaN  \n",
       "Coarseness                 NaN  "
      ]
     },
     "execution_count": 76,
     "metadata": {},
     "output_type": "execute_result"
    }
   ],
   "source": [
    "df.corr()"
   ]
  },
  {
   "cell_type": "code",
   "execution_count": 77,
   "metadata": {},
   "outputs": [
    {
     "data": {
      "text/plain": [
       "<AxesSubplot:>"
      ]
     },
     "execution_count": 77,
     "metadata": {},
     "output_type": "execute_result"
    },
    {
     "data": {
      "image/png": "[encoded data removed]",
      "text/plain": [
       "<Figure size 432x288 with 2 Axes>"
      ]
     },
     "metadata": {
      "needs_background": "light"
     },
     "output_type": "display_data"
    }
   ],
   "source": [
    "sns.heatmap(df.drop([\"Class\"],axis=1).corr())"
   ]
  },
  {
   "cell_type": "code",
   "execution_count": 78,
   "metadata": {},
   "outputs": [
    {
     "name": "stderr",
     "output_type": "stream",
     "text": [
      "No artists with labels found to put in legend.  Note that artists whose label start with an underscore are ignored when legend() is called with no argument.\n"
     ]
    },
    {
     "data": {
      "image/png": "[encoded data removed]",
      "text/plain": [
       "<Figure size 432x288 with 1 Axes>"
      ]
     },
     "metadata": {
      "needs_background": "light"
     },
     "output_type": "display_data"
    }
   ],
   "source": [
    "plt.hist(df[[\"Energy\",\"ASM\",\"Homogeneity\",\"Entropy\"]])\n",
    "plt.title(\"Histogram of Energy,ASM,Homogenity and Entropy\")\n",
    "plt.legend()\n",
    "plt.show()"
   ]
  },
  {
   "cell_type": "markdown",
   "metadata": {},
   "source": [
    "#### Feature Selection"
   ]
  },
  {
   "cell_type": "markdown",
   "metadata": {},
   "source": [
    "Based on our representations and our correlation heatmap we are going to reduce the number of our features, for instance : \n",
    "- The standard deviation and variation give about the same information so we will be keeping just the latter.\n",
    "- The Coaresness feature doesn't seem to be giving any information.\n",
    "- The Entropy, Energy, ASM and Homogenity features are highly correlated between them so we will be keeping just the homogenity."
   ]
  },
  {
   "cell_type": "code",
   "execution_count": 79,
   "metadata": {},
   "outputs": [
    {
     "data": {
      "text/plain": [
       "Index(['Class', 'Mean', 'Variance', 'Standard Deviation', 'Entropy',\n",
       "       'Skewness', 'Kurtosis', 'Contrast', 'Energy', 'ASM', 'Homogeneity',\n",
       "       'Dissimilarity', 'Correlation', 'Coarseness'],\n",
       "      dtype='object')"
      ]
     },
     "execution_count": 79,
     "metadata": {},
     "output_type": "execute_result"
    }
   ],
   "source": [
    "df.columns"
   ]
  },
  {
   "cell_type": "code",
   "execution_count": 80,
   "metadata": {},
   "outputs": [],
   "source": [
    "df=df.drop([\"Variance\",\"Entropy\",\"Energy\",\"ASM\",\"Coarseness\"],axis=1)"
   ]
  },
  {
   "cell_type": "code",
   "execution_count": 81,
   "metadata": {},
   "outputs": [
    {
     "data": {
      "text/plain": [
       "Index(['Class', 'Mean', 'Standard Deviation', 'Skewness', 'Kurtosis',\n",
       "       'Contrast', 'Homogeneity', 'Dissimilarity', 'Correlation'],\n",
       "      dtype='object')"
      ]
     },
     "execution_count": 81,
     "metadata": {},
     "output_type": "execute_result"
    }
   ],
   "source": [
    "df.columns"
   ]
  },
  {
   "cell_type": "markdown",
   "metadata": {},
   "source": [
    "Now we are left with 8 features, we will save this new dataframe for our ML task"
   ]
  },
  {
   "cell_type": "code",
   "execution_count": 82,
   "metadata": {},
   "outputs": [],
   "source": [
    "df.to_csv(\"clean_Brain Tumour.csv\")"
   ]
  },
  {
   "cell_type": "markdown",
   "metadata": {},
   "source": [
    "#### Image Visualisation \n",
    "It should also be noted that with our dataset comes a folder contraining the actual pictures, they will be needed in the DL task"
   ]
  },
  {
   "cell_type": "code",
   "execution_count": 83,
   "metadata": {},
   "outputs": [
    {
     "data": {
      "text/plain": [
       "Text(0.5, 1.0, 'No Tumor')"
      ]
     },
     "execution_count": 83,
     "metadata": {},
     "output_type": "execute_result"
    },
    {
     "data": {
      "image/png": "[encoded data removed]",
      "text/plain": [
       "<Figure size 432x288 with 1 Axes>"
      ]
     },
     "metadata": {
      "needs_background": "light"
     },
     "output_type": "display_data"
    }
   ],
   "source": [
    "from natsort import natsorted \n",
    "fig = plt.figure()  \n",
    "folder='./Brain Tumor/Brain Tumor/'\n",
    "imgs=[os.path.join(folder,img) for img in os.listdir(folder) if img.endswith('.jpg')]\n",
    "imgs=natsorted(imgs)\n",
    "\n",
    "img=cv.imread(imgs[3760],cv.IMREAD_GRAYSCALE)\n",
    "\n",
    "im = plt.imshow(img,  interpolation='none', aspect='auto',cmap ='gray', vmin=0, vmax=255)   \n",
    "plt.title('No Tumor')"
   ]
  }
 ],
 "metadata": {
  "kernelspec": {
   "display_name": "Python 3.9.12 ('base')",
   "language": "python",
   "name": "python3"
  },
  "language_info": {
   "codemirror_mode": {
    "name": "ipython",
    "version": 3
   },
   "file_extension": ".py",
   "mimetype": "text/x-python",
   "name": "python",
   "nbconvert_exporter": "python",
   "pygments_lexer": "ipython3",
   "version": "3.9.12"
  },
  "orig_nbformat": 4,
  "vscode": {
   "interpreter": {
    "hash": "99fcf9d4a50a3fc60922dfe5bdeaa49edaa2538f7421467a5da4b84b1899b3d5"
   }
  }
 },
 "nbformat": 4,
 "nbformat_minor": 2
}
